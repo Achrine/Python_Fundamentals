{
 "cells": [
  {
   "cell_type": "code",
   "execution_count": 1,
   "id": "97573d9f",
   "metadata": {},
   "outputs": [
    {
     "name": "stdout",
     "output_type": "stream",
     "text": [
      "1 1\n"
     ]
    }
   ],
   "source": [
    "#int \n",
    "a = 1 \n",
    "b = 2 \n",
    "b = a \n",
    "print(a, b)\n"
   ]
  },
  {
   "cell_type": "code",
   "execution_count": 2,
   "id": "011034a3",
   "metadata": {},
   "outputs": [
    {
     "name": "stdout",
     "output_type": "stream",
     "text": [
      "1.1 1.1\n"
     ]
    }
   ],
   "source": [
    "a = 1.1\n",
    "b = 2.2\n",
    "b = a \n",
    "print(a, b)\n"
   ]
  },
  {
   "cell_type": "code",
   "execution_count": 3,
   "id": "d267dcbf",
   "metadata": {},
   "outputs": [
    {
     "name": "stdout",
     "output_type": "stream",
     "text": [
      "I am A I am A\n"
     ]
    }
   ],
   "source": [
    "a = \"I am A\"\n",
    "b = \"I am B\"\n",
    "b = a\n",
    "print(a, b)"
   ]
  },
  {
   "cell_type": "code",
   "execution_count": 6,
   "id": "5277992a",
   "metadata": {},
   "outputs": [
    {
     "name": "stdout",
     "output_type": "stream",
     "text": [
      "[1, 2, 3] [1, 2, 3]\n",
      "[1, 90, 3] [1, 90, 3]\n",
      "[1, 90, 3] [99, 99, 99]\n"
     ]
    }
   ],
   "source": [
    "#List \n",
    "a = [1,2,3]\n",
    "b = [4,5,6]\n",
    "b = a \n",
    "print(a, b)\n",
    "b[1] = 90\n",
    "print(a, b)\n",
    "\n",
    "b = [99,99,99]\n",
    "print(a,b)"
   ]
  },
  {
   "cell_type": "code",
   "execution_count": 10,
   "id": "8370cf84",
   "metadata": {},
   "outputs": [
    {
     "name": "stdout",
     "output_type": "stream",
     "text": [
      "(1, 2, 3) (1, 2, 3)\n",
      "(1, 2, 3) (4, 5, 6)\n"
     ]
    }
   ],
   "source": [
    "#Tuple \n",
    "a = (1,2,3)\n",
    "b = a \n",
    "# b[2] = 69 <- tuples are immutable\n",
    "print(a,b)\n",
    "b = (4,5,6)\n",
    "print(a,b)"
   ]
  },
  {
   "cell_type": "code",
   "execution_count": 12,
   "id": "bd4d82d0",
   "metadata": {},
   "outputs": [
    {
     "name": "stdout",
     "output_type": "stream",
     "text": [
      "{'name': 'John', 'age': 40} {'name': 'John', 'age': 40}\n",
      "{'name': 'Betty', 'age': 40} {'name': 'Betty', 'age': 40}\n"
     ]
    }
   ],
   "source": [
    "# Dict\n",
    "personA = {\n",
    "    \"name\": \"John\",\n",
    "    \"age\": 40,\n",
    "}\n",
    "personB = personA\n",
    "print(personA, personB)\n",
    "\n",
    "personB[\"name\"] = \"Betty\"\n",
    "print(personA, personB)"
   ]
  },
  {
   "cell_type": "code",
   "execution_count": null,
   "id": "f67ed4e3",
   "metadata": {},
   "outputs": [],
   "source": []
  }
 ],
 "metadata": {
  "kernelspec": {
   "display_name": "Python 3 (ipykernel)",
   "language": "python",
   "name": "python3"
  },
  "language_info": {
   "codemirror_mode": {
    "name": "ipython",
    "version": 3
   },
   "file_extension": ".py",
   "mimetype": "text/x-python",
   "name": "python",
   "nbconvert_exporter": "python",
   "pygments_lexer": "ipython3",
   "version": "3.9.1"
  }
 },
 "nbformat": 4,
 "nbformat_minor": 5
}
